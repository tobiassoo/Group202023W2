{
 "cells": [
  {
   "cell_type": "code",
   "execution_count": 1,
   "id": "43e0df2d-a0ee-4e34-bd2a-7be2885f75e1",
   "metadata": {},
   "outputs": [
    {
     "name": "stderr",
     "output_type": "stream",
     "text": [
      "── \u001b[1mAttaching packages\u001b[22m ─────────────────────────────────────── tidyverse 1.3.1 ──\n",
      "\n",
      "\u001b[32m✔\u001b[39m \u001b[34mggplot2\u001b[39m 3.3.6     \u001b[32m✔\u001b[39m \u001b[34mpurrr  \u001b[39m 0.3.4\n",
      "\u001b[32m✔\u001b[39m \u001b[34mtibble \u001b[39m 3.1.7     \u001b[32m✔\u001b[39m \u001b[34mdplyr  \u001b[39m 1.0.9\n",
      "\u001b[32m✔\u001b[39m \u001b[34mtidyr  \u001b[39m 1.2.0     \u001b[32m✔\u001b[39m \u001b[34mstringr\u001b[39m 1.4.0\n",
      "\u001b[32m✔\u001b[39m \u001b[34mreadr  \u001b[39m 2.1.2     \u001b[32m✔\u001b[39m \u001b[34mforcats\u001b[39m 0.5.1\n",
      "\n",
      "── \u001b[1mConflicts\u001b[22m ────────────────────────────────────────── tidyverse_conflicts() ──\n",
      "\u001b[31m✖\u001b[39m \u001b[34mdplyr\u001b[39m::\u001b[32mfilter()\u001b[39m masks \u001b[34mstats\u001b[39m::filter()\n",
      "\u001b[31m✖\u001b[39m \u001b[34mdplyr\u001b[39m::\u001b[32mlag()\u001b[39m    masks \u001b[34mstats\u001b[39m::lag()\n",
      "\n",
      "── \u001b[1mAttaching packages\u001b[22m ────────────────────────────────────── tidymodels 1.0.0 ──\n",
      "\n",
      "\u001b[32m✔\u001b[39m \u001b[34mbroom       \u001b[39m 1.0.0     \u001b[32m✔\u001b[39m \u001b[34mrsample     \u001b[39m 1.0.0\n",
      "\u001b[32m✔\u001b[39m \u001b[34mdials       \u001b[39m 1.0.0     \u001b[32m✔\u001b[39m \u001b[34mtune        \u001b[39m 1.0.0\n",
      "\u001b[32m✔\u001b[39m \u001b[34minfer       \u001b[39m 1.0.2     \u001b[32m✔\u001b[39m \u001b[34mworkflows   \u001b[39m 1.0.0\n",
      "\u001b[32m✔\u001b[39m \u001b[34mmodeldata   \u001b[39m 1.0.0     \u001b[32m✔\u001b[39m \u001b[34mworkflowsets\u001b[39m 1.0.0\n",
      "\u001b[32m✔\u001b[39m \u001b[34mparsnip     \u001b[39m 1.0.0     \u001b[32m✔\u001b[39m \u001b[34myardstick   \u001b[39m 1.0.0\n",
      "\u001b[32m✔\u001b[39m \u001b[34mrecipes     \u001b[39m 1.0.1     \n",
      "\n",
      "── \u001b[1mConflicts\u001b[22m ───────────────────────────────────────── tidymodels_conflicts() ──\n",
      "\u001b[31m✖\u001b[39m \u001b[34mscales\u001b[39m::\u001b[32mdiscard()\u001b[39m masks \u001b[34mpurrr\u001b[39m::discard()\n",
      "\u001b[31m✖\u001b[39m \u001b[34mdplyr\u001b[39m::\u001b[32mfilter()\u001b[39m   masks \u001b[34mstats\u001b[39m::filter()\n",
      "\u001b[31m✖\u001b[39m \u001b[34mrecipes\u001b[39m::\u001b[32mfixed()\u001b[39m  masks \u001b[34mstringr\u001b[39m::fixed()\n",
      "\u001b[31m✖\u001b[39m \u001b[34mdplyr\u001b[39m::\u001b[32mlag()\u001b[39m      masks \u001b[34mstats\u001b[39m::lag()\n",
      "\u001b[31m✖\u001b[39m \u001b[34myardstick\u001b[39m::\u001b[32mspec()\u001b[39m masks \u001b[34mreadr\u001b[39m::spec()\n",
      "\u001b[31m✖\u001b[39m \u001b[34mrecipes\u001b[39m::\u001b[32mstep()\u001b[39m   masks \u001b[34mstats\u001b[39m::step()\n",
      "\u001b[34m•\u001b[39m Search for functions across packages at \u001b[32mhttps://www.tidymodels.org/find/\u001b[39m\n",
      "\n"
     ]
    }
   ],
   "source": [
    "library(tidyverse)\n",
    "library(repr)\n",
    "library(tidymodels)\n",
    "options(repr.matrix.max.rows = 6)"
   ]
  },
  {
   "cell_type": "code",
   "execution_count": 4,
   "id": "0f7275a1-d700-4d2c-bb44-75f669fea395",
   "metadata": {},
   "outputs": [
    {
     "name": "stderr",
     "output_type": "stream",
     "text": [
      "\u001b[1m\u001b[22mNew names:\n",
      "\u001b[36m•\u001b[39m `` -> `...1`\n",
      "\u001b[1mRows: \u001b[22m\u001b[34m500\u001b[39m \u001b[1mColumns: \u001b[22m\u001b[34m38\u001b[39m\n",
      "\u001b[36m──\u001b[39m \u001b[1mColumn specification\u001b[22m \u001b[36m────────────────────────────────────────────────────────\u001b[39m\n",
      "\u001b[1mDelimiter:\u001b[22m \",\"\n",
      "\u001b[31mchr\u001b[39m (25): Age, Country, Plays, Wikipedia, Current Rank, Best Rank, Name, Bac...\n",
      "\u001b[32mdbl\u001b[39m (13): ...1, Turned Pro, Seasons, Titles, Best Season, Retired, Masters, ...\n",
      "\n",
      "\u001b[36mℹ\u001b[39m Use `spec()` to retrieve the full column specification for this data.\n",
      "\u001b[36mℹ\u001b[39m Specify the column types or set `show_col_types = FALSE` to quiet this message.\n"
     ]
    }
   ],
   "source": [
    "tennis_data<-read_csv(\"player_stats.csv\")\n",
    "\n",
    "glimpse(tennis_data)"
   ]
  },
  {
   "cell_type": "code",
   "execution_count": 36,
   "id": "849ade41",
   "metadata": {},
   "outputs": [
    {
     "name": "stderr",
     "output_type": "stream",
     "text": [
      "Warning message in mask$eval_all_mutate(quo):\n",
      "“NAs introduced by coercion”\n"
     ]
    },
    {
     "data": {
      "text/html": [
       "<table class=\"dataframe\">\n",
       "<caption>A tibble: 453 × 5</caption>\n",
       "<thead>\n",
       "\t<tr><th scope=col>Plays</th><th scope=col>Current Rank</th><th scope=col>Best Rank</th><th scope=col>Name</th><th scope=col>Country</th></tr>\n",
       "\t<tr><th scope=col>&lt;fct&gt;</th><th scope=col>&lt;dbl&gt;</th><th scope=col>&lt;chr&gt;</th><th scope=col>&lt;chr&gt;</th><th scope=col>&lt;chr&gt;</th></tr>\n",
       "</thead>\n",
       "<tbody>\n",
       "\t<tr><td>Right-handed</td><td>NA</td><td>363 (04-11-2019)</td><td>Oscar Jose Gutierrez</td><td>Brazil        </td></tr>\n",
       "\t<tr><td>Left-handed </td><td>NA</td><td>316 (14-10-2019)</td><td>Jack Draper         </td><td>United Kingdom</td></tr>\n",
       "\t<tr><td>Right-handed</td><td>NA</td><td>44 (14-01-2013) </td><td>Lukas Lacko         </td><td>Slovakia      </td></tr>\n",
       "\t<tr><td>⋮</td><td>⋮</td><td>⋮</td><td>⋮</td><td>⋮</td></tr>\n",
       "\t<tr><td>Right-handed</td><td>NA</td><td>4 (06-11-2017)  </td><td>Dominic Thiem</td><td>Austria    </td></tr>\n",
       "\t<tr><td>Left-handed </td><td>NA</td><td>342 (05-08-2019)</td><td>Gijs Brouwer </td><td>Netherlands</td></tr>\n",
       "\t<tr><td>Left-handed </td><td>NA</td><td>408 (24-12-2018)</td><td>Aziz Dougaz  </td><td>Tunisia    </td></tr>\n",
       "</tbody>\n",
       "</table>\n"
      ],
      "text/latex": [
       "A tibble: 453 × 5\n",
       "\\begin{tabular}{lllll}\n",
       " Plays & Current Rank & Best Rank & Name & Country\\\\\n",
       " <fct> & <dbl> & <chr> & <chr> & <chr>\\\\\n",
       "\\hline\n",
       "\t Right-handed & NA & 363 (04-11-2019) & Oscar Jose Gutierrez & Brazil        \\\\\n",
       "\t Left-handed  & NA & 316 (14-10-2019) & Jack Draper          & United Kingdom\\\\\n",
       "\t Right-handed & NA & 44 (14-01-2013)  & Lukas Lacko          & Slovakia      \\\\\n",
       "\t ⋮ & ⋮ & ⋮ & ⋮ & ⋮\\\\\n",
       "\t Right-handed & NA & 4 (06-11-2017)   & Dominic Thiem & Austria    \\\\\n",
       "\t Left-handed  & NA & 342 (05-08-2019) & Gijs Brouwer  & Netherlands\\\\\n",
       "\t Left-handed  & NA & 408 (24-12-2018) & Aziz Dougaz   & Tunisia    \\\\\n",
       "\\end{tabular}\n"
      ],
      "text/markdown": [
       "\n",
       "A tibble: 453 × 5\n",
       "\n",
       "| Plays &lt;fct&gt; | Current Rank &lt;dbl&gt; | Best Rank &lt;chr&gt; | Name &lt;chr&gt; | Country &lt;chr&gt; |\n",
       "|---|---|---|---|---|\n",
       "| Right-handed | NA | 363 (04-11-2019) | Oscar Jose Gutierrez | Brazil         |\n",
       "| Left-handed  | NA | 316 (14-10-2019) | Jack Draper          | United Kingdom |\n",
       "| Right-handed | NA | 44 (14-01-2013)  | Lukas Lacko          | Slovakia       |\n",
       "| ⋮ | ⋮ | ⋮ | ⋮ | ⋮ |\n",
       "| Right-handed | NA | 4 (06-11-2017)   | Dominic Thiem | Austria     |\n",
       "| Left-handed  | NA | 342 (05-08-2019) | Gijs Brouwer  | Netherlands |\n",
       "| Left-handed  | NA | 408 (24-12-2018) | Aziz Dougaz   | Tunisia     |\n",
       "\n"
      ],
      "text/plain": [
       "    Plays        Current Rank Best Rank        Name                \n",
       "1   Right-handed NA           363 (04-11-2019) Oscar Jose Gutierrez\n",
       "2   Left-handed  NA           316 (14-10-2019) Jack Draper         \n",
       "3   Right-handed NA           44 (14-01-2013)  Lukas Lacko         \n",
       "⋮   ⋮            ⋮            ⋮                ⋮                   \n",
       "451 Right-handed NA           4 (06-11-2017)   Dominic Thiem       \n",
       "452 Left-handed  NA           342 (05-08-2019) Gijs Brouwer        \n",
       "453 Left-handed  NA           408 (24-12-2018) Aziz Dougaz         \n",
       "    Country       \n",
       "1   Brazil        \n",
       "2   United Kingdom\n",
       "3   Slovakia      \n",
       "⋮   ⋮             \n",
       "451 Austria       \n",
       "452 Netherlands   \n",
       "453 Tunisia       "
      ]
     },
     "metadata": {},
     "output_type": "display_data"
    }
   ],
   "source": [
    "filtered_data<- tennis_data|>\n",
    "                select(Plays,\"Current Rank\",\"Best Rank\",Name,Country)|>\n",
    "                mutate(Plays=as_factor(Plays))|>\n",
    "                filter(Plays!=\"NA\")|>\n",
    "                filter(\"Current Rank\"!=\"NA\")|>\n",
    "                filter(\"Best Rank\"!=\"NA\")|>\n",
    "                filter(Name!=\"NA\")|>\n",
    "                filter(Country!=\"NA\")|>\n",
    "                mutate(\"Current Rank\"=as.numeric(\"Current Rank\"))\n",
    "                #mutate(\"Best Rank\"=as.numeric(\"Best Rank\"))\n",
    "\n",
    "filtered_data"
   ]
  },
  {
   "cell_type": "code",
   "execution_count": null,
   "id": "0af5efc5",
   "metadata": {},
   "outputs": [],
   "source": []
  }
 ],
 "metadata": {
  "kernelspec": {
   "display_name": "R",
   "language": "R",
   "name": "ir"
  },
  "language_info": {
   "codemirror_mode": "r",
   "file_extension": ".r",
   "mimetype": "text/x-r-source",
   "name": "R",
   "pygments_lexer": "r",
   "version": "4.1.3"
  }
 },
 "nbformat": 4,
 "nbformat_minor": 5
}
